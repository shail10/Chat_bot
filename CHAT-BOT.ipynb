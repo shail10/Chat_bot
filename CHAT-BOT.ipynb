{
 "cells": [
  {
   "cell_type": "code",
   "execution_count": 1,
   "id": "f5792328",
   "metadata": {},
   "outputs": [],
   "source": [
    "import numpy as np"
   ]
  },
  {
   "cell_type": "code",
   "execution_count": 2,
   "id": "2950f776",
   "metadata": {},
   "outputs": [],
   "source": [
    "import pickle"
   ]
  },
  {
   "cell_type": "code",
   "execution_count": 3,
   "id": "caa9d917",
   "metadata": {},
   "outputs": [],
   "source": [
    "with open('train_qa.txt','rb') as f:\n",
    "    train_data = pickle.load(f)"
   ]
  },
  {
   "cell_type": "code",
   "execution_count": 4,
   "id": "cb8163ce",
   "metadata": {},
   "outputs": [],
   "source": [
    "with open('test_qa.txt','rb') as f:\n",
    "    test_data = pickle.load(f)"
   ]
  },
  {
   "cell_type": "code",
   "execution_count": 5,
   "id": "762715da",
   "metadata": {},
   "outputs": [
    {
     "data": {
      "text/plain": [
       "(['Mary',\n",
       "  'moved',\n",
       "  'to',\n",
       "  'the',\n",
       "  'bathroom',\n",
       "  '.',\n",
       "  'Sandra',\n",
       "  'journeyed',\n",
       "  'to',\n",
       "  'the',\n",
       "  'bedroom',\n",
       "  '.'],\n",
       " ['Is', 'Sandra', 'in', 'the', 'hallway', '?'],\n",
       " 'no')"
      ]
     },
     "execution_count": 5,
     "metadata": {},
     "output_type": "execute_result"
    }
   ],
   "source": [
    "train_data[0]"
   ]
  },
  {
   "cell_type": "code",
   "execution_count": 6,
   "id": "82533319",
   "metadata": {},
   "outputs": [
    {
     "data": {
      "text/plain": [
       "1000"
      ]
     },
     "execution_count": 6,
     "metadata": {},
     "output_type": "execute_result"
    }
   ],
   "source": [
    "\n",
    "len(test_data)"
   ]
  },
  {
   "cell_type": "code",
   "execution_count": 7,
   "id": "5a4aa65c",
   "metadata": {},
   "outputs": [
    {
     "data": {
      "text/plain": [
       "10000"
      ]
     },
     "execution_count": 7,
     "metadata": {},
     "output_type": "execute_result"
    }
   ],
   "source": [
    "len(train_data)"
   ]
  },
  {
   "cell_type": "markdown",
   "id": "884dcf86",
   "metadata": {},
   "source": [
    "# Creating Vocabulary for the entire Data Set"
   ]
  },
  {
   "cell_type": "code",
   "execution_count": 8,
   "id": "68adf7bb",
   "metadata": {},
   "outputs": [],
   "source": [
    "all_data = test_data+train_data"
   ]
  },
  {
   "cell_type": "code",
   "execution_count": 9,
   "id": "50bf8667",
   "metadata": {},
   "outputs": [],
   "source": [
    "vocab = set()\n",
    "for story,questions,answer in all_data:\n",
    "    vocab = vocab.union(set(story))\n",
    "    vocab = vocab.union(set(questions))\n",
    "vocab.add('yes')\n",
    "vocab.add('no')"
   ]
  },
  {
   "cell_type": "code",
   "execution_count": 10,
   "id": "c2f2094c",
   "metadata": {},
   "outputs": [
    {
     "data": {
      "text/plain": [
       "37"
      ]
     },
     "execution_count": 10,
     "metadata": {},
     "output_type": "execute_result"
    }
   ],
   "source": [
    "len(vocab)"
   ]
  },
  {
   "cell_type": "code",
   "execution_count": 11,
   "id": "57b85443",
   "metadata": {},
   "outputs": [
    {
     "data": {
      "text/plain": [
       "{'.',\n",
       " '?',\n",
       " 'Daniel',\n",
       " 'Is',\n",
       " 'John',\n",
       " 'Mary',\n",
       " 'Sandra',\n",
       " 'apple',\n",
       " 'back',\n",
       " 'bathroom',\n",
       " 'bedroom',\n",
       " 'discarded',\n",
       " 'down',\n",
       " 'dropped',\n",
       " 'football',\n",
       " 'garden',\n",
       " 'got',\n",
       " 'grabbed',\n",
       " 'hallway',\n",
       " 'in',\n",
       " 'journeyed',\n",
       " 'kitchen',\n",
       " 'left',\n",
       " 'milk',\n",
       " 'moved',\n",
       " 'no',\n",
       " 'office',\n",
       " 'picked',\n",
       " 'put',\n",
       " 'the',\n",
       " 'there',\n",
       " 'to',\n",
       " 'took',\n",
       " 'travelled',\n",
       " 'up',\n",
       " 'went',\n",
       " 'yes'}"
      ]
     },
     "execution_count": 11,
     "metadata": {},
     "output_type": "execute_result"
    }
   ],
   "source": [
    "vocab"
   ]
  },
  {
   "cell_type": "code",
   "execution_count": 12,
   "id": "8bce43f2",
   "metadata": {},
   "outputs": [],
   "source": [
    "vocab_len = len(vocab) + 1\n",
    "#we add an extra 1 to hold 0 for Keras' pad_sequences"
   ]
  },
  {
   "cell_type": "code",
   "execution_count": 13,
   "id": "be9f0f2c",
   "metadata": {},
   "outputs": [
    {
     "data": {
      "text/plain": [
       "38"
      ]
     },
     "execution_count": 13,
     "metadata": {},
     "output_type": "execute_result"
    }
   ],
   "source": [
    "vocab_len"
   ]
  },
  {
   "cell_type": "code",
   "execution_count": 14,
   "id": "b8a8f219",
   "metadata": {},
   "outputs": [],
   "source": [
    "#we also need max story length and max question length for when we train the Model later on\n",
    "max_story_len = max([len(d[0]) for d in all_data])\n",
    "max_question_len = min([len(d[1]) for d in all_data])"
   ]
  },
  {
   "cell_type": "code",
   "execution_count": 15,
   "id": "e87442b3",
   "metadata": {},
   "outputs": [
    {
     "data": {
      "text/plain": [
       "6"
      ]
     },
     "execution_count": 15,
     "metadata": {},
     "output_type": "execute_result"
    }
   ],
   "source": [
    "max_question_len"
   ]
  },
  {
   "cell_type": "markdown",
   "id": "4e9fa440",
   "metadata": {},
   "source": [
    "# Writing a function to vectorize the Data"
   ]
  },
  {
   "cell_type": "code",
   "execution_count": 16,
   "id": "d91337db",
   "metadata": {},
   "outputs": [],
   "source": [
    "#Creating the vocab size again\n",
    "vocab_size = len(vocab) + 1"
   ]
  },
  {
   "cell_type": "code",
   "execution_count": 17,
   "id": "360d151a",
   "metadata": {},
   "outputs": [
    {
     "name": "stderr",
     "output_type": "stream",
     "text": [
      "Using TensorFlow backend.\n"
     ]
    }
   ],
   "source": [
    "from keras.preprocessing.sequence import pad_sequences\n",
    "from keras.preprocessing.text import Tokenizer"
   ]
  },
  {
   "cell_type": "code",
   "execution_count": 18,
   "id": "4c387c71",
   "metadata": {},
   "outputs": [],
   "source": [
    "tokenizer = Tokenizer(filters=[])\n",
    "tokenizer.fit_on_texts(vocab)"
   ]
  },
  {
   "cell_type": "code",
   "execution_count": 19,
   "id": "7267200e",
   "metadata": {},
   "outputs": [
    {
     "data": {
      "text/plain": [
       "{'apple': 1,\n",
       " 'to': 2,\n",
       " 'travelled': 3,\n",
       " 'yes': 4,\n",
       " 'milk': 5,\n",
       " 'kitchen': 6,\n",
       " 'journeyed': 7,\n",
       " 'in': 8,\n",
       " 'got': 9,\n",
       " 'down': 10,\n",
       " 'discarded': 11,\n",
       " 'took': 12,\n",
       " 'john': 13,\n",
       " 'put': 14,\n",
       " 'garden': 15,\n",
       " 'no': 16,\n",
       " 'sandra': 17,\n",
       " 'went': 18,\n",
       " 'picked': 19,\n",
       " 'back': 20,\n",
       " 'hallway': 21,\n",
       " 'there': 22,\n",
       " 'bedroom': 23,\n",
       " 'dropped': 24,\n",
       " 'moved': 25,\n",
       " '.': 26,\n",
       " 'mary': 27,\n",
       " 'office': 28,\n",
       " 'daniel': 29,\n",
       " 'bathroom': 30,\n",
       " 'up': 31,\n",
       " 'football': 32,\n",
       " 'is': 33,\n",
       " 'left': 34,\n",
       " 'grabbed': 35,\n",
       " '?': 36,\n",
       " 'the': 37}"
      ]
     },
     "execution_count": 19,
     "metadata": {},
     "output_type": "execute_result"
    }
   ],
   "source": [
    "tokenizer.word_index"
   ]
  },
  {
   "cell_type": "code",
   "execution_count": 20,
   "id": "6797ecc6",
   "metadata": {},
   "outputs": [],
   "source": [
    "#Creating the function\n",
    "def vectorize_data(data,word_index=tokenizer.word_index, max_story_len=max_story_len, max_question_len=max_question_len):\n",
    "    \n",
    "    #The output of the fuction will vectorize whatever data that has been passed in the function\n",
    "    #The output list will be:-\n",
    "    STORY = []\n",
    "    QUESTIONS = []\n",
    "    ANSWER = []\n",
    "    \n",
    "    for s,q,a in data:\n",
    "        #s = story, q=question, a=answer\n",
    "        story = [word_index[word.lower()] for word in s]\n",
    "        question = [word_index[word.lower()] for word in q]\n",
    "        \n",
    "        #Since the answer is in YES or NO, it would be easy to use np.arrays to start it of with 0's\n",
    "        answer = np.zeros(len(word_index) + 1)\n",
    "        answer[word_index[a]] = 1\n",
    "        \n",
    "        #Now we will append everything to the output list\n",
    "        STORY.append(story)\n",
    "        QUESTIONS.append(question)\n",
    "        ANSWER.append(answer)\n",
    "    \n",
    "    #finally we will return tuple for unpacking along with pad_sequences\n",
    "    return(pad_sequences(STORY,maxlen=max_story_len), pad_sequences(QUESTIONS,maxlen=max_question_len), np.array(ANSWER))\n",
    "    "
   ]
  },
  {
   "cell_type": "code",
   "execution_count": 21,
   "id": "95171023",
   "metadata": {},
   "outputs": [],
   "source": [
    "inputs_train, queries_train, answers_train = vectorize_data(train_data)"
   ]
  },
  {
   "cell_type": "code",
   "execution_count": 22,
   "id": "f10964a6",
   "metadata": {},
   "outputs": [],
   "source": [
    "inputs_test, queries_test, answers_test = vectorize_data(test_data)"
   ]
  },
  {
   "cell_type": "code",
   "execution_count": 23,
   "id": "4613153d",
   "metadata": {},
   "outputs": [
    {
     "data": {
      "text/plain": [
       "4"
      ]
     },
     "execution_count": 23,
     "metadata": {},
     "output_type": "execute_result"
    }
   ],
   "source": [
    "tokenizer.word_index['yes']"
   ]
  },
  {
   "cell_type": "code",
   "execution_count": 24,
   "id": "0fb029c8",
   "metadata": {},
   "outputs": [
    {
     "data": {
      "text/plain": [
       "16"
      ]
     },
     "execution_count": 24,
     "metadata": {},
     "output_type": "execute_result"
    }
   ],
   "source": [
    "tokenizer.word_index['no']"
   ]
  },
  {
   "cell_type": "markdown",
   "id": "cb37fccf",
   "metadata": {},
   "source": [
    "# CREATING THE MODEL"
   ]
  },
  {
   "cell_type": "code",
   "execution_count": 25,
   "id": "5efc07b2",
   "metadata": {},
   "outputs": [],
   "source": [
    "from keras.models import Sequential, Model\n",
    "from keras.layers.embeddings import Embedding\n",
    "from keras.layers import Input, Activation, Dense, Permute, Dropout, add, dot, concatenate\n",
    "from keras.layers import LSTM"
   ]
  },
  {
   "cell_type": "markdown",
   "id": "b03011fe",
   "metadata": {},
   "source": [
    "Placeholder for Input"
   ]
  },
  {
   "cell_type": "code",
   "execution_count": 26,
   "id": "5f2af9ba",
   "metadata": {},
   "outputs": [],
   "source": [
    "input_sequence = Input((max_story_len,))\n",
    "question = Input((max_question_len,))\n",
    "#it is left afte',' because the batch size is not yet chosen at the moment"
   ]
  },
  {
   "cell_type": "markdown",
   "id": "b447ee8b",
   "metadata": {},
   "source": [
    "Encoders"
   ]
  },
  {
   "cell_type": "code",
   "execution_count": 27,
   "id": "942b5042",
   "metadata": {},
   "outputs": [
    {
     "name": "stdout",
     "output_type": "stream",
     "text": [
      "WARNING:tensorflow:From E:\\New folder (3)\\envs\\nlp_course\\lib\\site-packages\\tensorflow\\python\\ops\\resource_variable_ops.py:435: colocate_with (from tensorflow.python.framework.ops) is deprecated and will be removed in a future version.\n",
      "Instructions for updating:\n",
      "Colocations handled automatically by placer.\n"
     ]
    }
   ],
   "source": [
    "#Input Encoder M\n",
    "input_encoder_m = Sequential()\n",
    "input_encoder_m.add(Embedding(input_dim=vocab_size,output_dim=64))\n",
    "input_encoder_m.add(Dropout(0.3))\n",
    "\n",
    "#Input Encoder C\n",
    "input_encoder_c = Sequential()\n",
    "input_encoder_c.add(Embedding(input_dim=vocab_size,output_dim=max_question_len)) #refer the research paper to understand why the output_dim in encoder C is taken as max_question_len\n",
    "input_encoder_c.add(Dropout(0.3))\n",
    "\n",
    "#Question Encoder \n",
    "question_encoder = Sequential()\n",
    "question_encoder.add(Embedding(input_dim=vocab_size,output_dim=64,input_length=max_question_len))\n",
    "question_encoder.add(Dropout(0.3))"
   ]
  },
  {
   "cell_type": "markdown",
   "id": "7d2ffb26",
   "metadata": {},
   "source": [
    "Encode the Sequences"
   ]
  },
  {
   "cell_type": "code",
   "execution_count": 28,
   "id": "2f7fc3be",
   "metadata": {},
   "outputs": [],
   "source": [
    "input_encoded_m = input_encoder_m(input_sequence)\n",
    "input_encoded_c = input_encoder_c(input_sequence)\n",
    "question_encoded = question_encoder(question)"
   ]
  },
  {
   "cell_type": "markdown",
   "id": "6637c803",
   "metadata": {},
   "source": [
    "Performing the operation as in the research paper"
   ]
  },
  {
   "cell_type": "code",
   "execution_count": 29,
   "id": "d63d80db",
   "metadata": {},
   "outputs": [],
   "source": [
    "#dot product\n",
    "match = dot([input_encoded_m,question_encoded],axes=(2,2))\n",
    "match = Activation('softmax')(match)\n",
    "\n",
    "#adding the matrix with the sequence C\n",
    "response = add([match,input_encoded_c])\n",
    "response = Permute((2,1))(response)\n"
   ]
  },
  {
   "cell_type": "code",
   "execution_count": 30,
   "id": "1fd769f9",
   "metadata": {},
   "outputs": [],
   "source": [
    "#final answer\n",
    "answer = concatenate([response,question_encoded])"
   ]
  },
  {
   "cell_type": "code",
   "execution_count": 31,
   "id": "57472e0d",
   "metadata": {},
   "outputs": [
    {
     "data": {
      "text/plain": [
       "<tf.Tensor 'concatenate_1/concat:0' shape=(?, 6, 220) dtype=float32>"
      ]
     },
     "execution_count": 31,
     "metadata": {},
     "output_type": "execute_result"
    }
   ],
   "source": [
    "answer"
   ]
  },
  {
   "cell_type": "code",
   "execution_count": 32,
   "id": "095b91c6",
   "metadata": {},
   "outputs": [],
   "source": [
    "#reduce the model with RNN using LSTM\n",
    "answer = LSTM(32)(answer)\n",
    "answer = Dropout(0.5)(answer)\n",
    "answer = Dense(vocab_size)(answer)"
   ]
  },
  {
   "cell_type": "code",
   "execution_count": 33,
   "id": "4b9c62d1",
   "metadata": {},
   "outputs": [],
   "source": [
    "answer = Activation('softmax')(answer)"
   ]
  },
  {
   "cell_type": "markdown",
   "id": "1199f6ad",
   "metadata": {},
   "source": [
    "Building the final model"
   ]
  },
  {
   "cell_type": "code",
   "execution_count": 34,
   "id": "e2e5801f",
   "metadata": {},
   "outputs": [],
   "source": [
    "model = Model([input_sequence,question], answer)\n",
    "model.compile(optimizer='rmsprop',loss='categorical_crossentropy', metrics=['accuracy'])"
   ]
  },
  {
   "cell_type": "code",
   "execution_count": 35,
   "id": "13b8d22e",
   "metadata": {},
   "outputs": [
    {
     "name": "stdout",
     "output_type": "stream",
     "text": [
      "Model: \"model_1\"\n",
      "__________________________________________________________________________________________________\n",
      "Layer (type)                    Output Shape         Param #     Connected to                     \n",
      "==================================================================================================\n",
      "input_1 (InputLayer)            (None, 156)          0                                            \n",
      "__________________________________________________________________________________________________\n",
      "input_2 (InputLayer)            (None, 6)            0                                            \n",
      "__________________________________________________________________________________________________\n",
      "sequential_1 (Sequential)       multiple             2432        input_1[0][0]                    \n",
      "__________________________________________________________________________________________________\n",
      "sequential_3 (Sequential)       (None, 6, 64)        2432        input_2[0][0]                    \n",
      "__________________________________________________________________________________________________\n",
      "dot_1 (Dot)                     (None, 156, 6)       0           sequential_1[1][0]               \n",
      "                                                                 sequential_3[1][0]               \n",
      "__________________________________________________________________________________________________\n",
      "activation_1 (Activation)       (None, 156, 6)       0           dot_1[0][0]                      \n",
      "__________________________________________________________________________________________________\n",
      "sequential_2 (Sequential)       multiple             228         input_1[0][0]                    \n",
      "__________________________________________________________________________________________________\n",
      "add_1 (Add)                     (None, 156, 6)       0           activation_1[0][0]               \n",
      "                                                                 sequential_2[1][0]               \n",
      "__________________________________________________________________________________________________\n",
      "permute_1 (Permute)             (None, 6, 156)       0           add_1[0][0]                      \n",
      "__________________________________________________________________________________________________\n",
      "concatenate_1 (Concatenate)     (None, 6, 220)       0           permute_1[0][0]                  \n",
      "                                                                 sequential_3[1][0]               \n",
      "__________________________________________________________________________________________________\n",
      "lstm_1 (LSTM)                   (None, 32)           32384       concatenate_1[0][0]              \n",
      "__________________________________________________________________________________________________\n",
      "dropout_4 (Dropout)             (None, 32)           0           lstm_1[0][0]                     \n",
      "__________________________________________________________________________________________________\n",
      "dense_1 (Dense)                 (None, 38)           1254        dropout_4[0][0]                  \n",
      "__________________________________________________________________________________________________\n",
      "activation_2 (Activation)       (None, 38)           0           dense_1[0][0]                    \n",
      "==================================================================================================\n",
      "Total params: 38,730\n",
      "Trainable params: 38,730\n",
      "Non-trainable params: 0\n",
      "__________________________________________________________________________________________________\n"
     ]
    }
   ],
   "source": [
    "model.summary()"
   ]
  },
  {
   "cell_type": "code",
   "execution_count": 36,
   "id": "d625b857",
   "metadata": {},
   "outputs": [
    {
     "name": "stdout",
     "output_type": "stream",
     "text": [
      "WARNING:tensorflow:From E:\\New folder (3)\\envs\\nlp_course\\lib\\site-packages\\tensorflow\\python\\ops\\math_ops.py:3066: to_int32 (from tensorflow.python.ops.math_ops) is deprecated and will be removed in a future version.\n",
      "Instructions for updating:\n",
      "Use tf.cast instead.\n",
      "WARNING:tensorflow:From E:\\New folder (3)\\envs\\nlp_course\\lib\\site-packages\\tensorflow\\python\\ops\\math_grad.py:102: div (from tensorflow.python.ops.math_ops) is deprecated and will be removed in a future version.\n",
      "Instructions for updating:\n",
      "Deprecated in favor of operator or tf.math.divide.\n",
      "Train on 10000 samples, validate on 1000 samples\n",
      "Epoch 1/150\n",
      "10000/10000 [==============================] - 8s 797us/step - loss: 0.9136 - accuracy: 0.5013 - val_loss: 0.6957 - val_accuracy: 0.4970\n",
      "Epoch 2/150\n",
      "10000/10000 [==============================] - 7s 699us/step - loss: 0.7047 - accuracy: 0.4958 - val_loss: 0.6936 - val_accuracy: 0.5030\n",
      "Epoch 3/150\n",
      "10000/10000 [==============================] - 6s 623us/step - loss: 0.6961 - accuracy: 0.4995 - val_loss: 0.6936 - val_accuracy: 0.4970\n",
      "Epoch 4/150\n",
      "10000/10000 [==============================] - 6s 620us/step - loss: 0.6950 - accuracy: 0.4987 - val_loss: 0.6932 - val_accuracy: 0.5030\n",
      "Epoch 5/150\n",
      "10000/10000 [==============================] - 6s 622us/step - loss: 0.6955 - accuracy: 0.4931 - val_loss: 0.6932 - val_accuracy: 0.4970\n",
      "Epoch 6/150\n",
      "10000/10000 [==============================] - 6s 625us/step - loss: 0.6939 - accuracy: 0.5094 - val_loss: 0.6934 - val_accuracy: 0.4970\n",
      "Epoch 7/150\n",
      "10000/10000 [==============================] - 6s 624us/step - loss: 0.6947 - accuracy: 0.5035 - val_loss: 0.6941 - val_accuracy: 0.4970\n",
      "Epoch 8/150\n",
      "10000/10000 [==============================] - 6s 620us/step - loss: 0.6949 - accuracy: 0.4912 - val_loss: 0.6940 - val_accuracy: 0.4970\n",
      "Epoch 9/150\n",
      "10000/10000 [==============================] - 6s 622us/step - loss: 0.6942 - accuracy: 0.4972 - val_loss: 0.6944 - val_accuracy: 0.5030\n",
      "Epoch 10/150\n",
      "10000/10000 [==============================] - 6s 622us/step - loss: 0.6939 - accuracy: 0.5036 - val_loss: 0.6952 - val_accuracy: 0.5030\n",
      "Epoch 11/150\n",
      "10000/10000 [==============================] - 6s 623us/step - loss: 0.6942 - accuracy: 0.4976 - val_loss: 0.6945 - val_accuracy: 0.4860\n",
      "Epoch 12/150\n",
      "10000/10000 [==============================] - 6s 622us/step - loss: 0.6917 - accuracy: 0.5244 - val_loss: 0.6960 - val_accuracy: 0.5130\n",
      "Epoch 13/150\n",
      "10000/10000 [==============================] - 6s 621us/step - loss: 0.6825 - accuracy: 0.5579 - val_loss: 0.6787 - val_accuracy: 0.5570\n",
      "Epoch 14/150\n",
      "10000/10000 [==============================] - 6s 619us/step - loss: 0.6582 - accuracy: 0.6021 - val_loss: 0.6618 - val_accuracy: 0.6230\n",
      "Epoch 15/150\n",
      "10000/10000 [==============================] - 6s 622us/step - loss: 0.6428 - accuracy: 0.6273 - val_loss: 0.6195 - val_accuracy: 0.6690\n",
      "Epoch 16/150\n",
      "10000/10000 [==============================] - 6s 620us/step - loss: 0.6246 - accuracy: 0.6599 - val_loss: 0.6113 - val_accuracy: 0.6740\n",
      "Epoch 17/150\n",
      "10000/10000 [==============================] - 6s 622us/step - loss: 0.6146 - accuracy: 0.6636 - val_loss: 0.5943 - val_accuracy: 0.6910\n",
      "Epoch 18/150\n",
      "10000/10000 [==============================] - 6s 620us/step - loss: 0.6025 - accuracy: 0.6770 - val_loss: 0.5896 - val_accuracy: 0.6890\n",
      "Epoch 19/150\n",
      "10000/10000 [==============================] - 6s 620us/step - loss: 0.5934 - accuracy: 0.6857 - val_loss: 0.5831 - val_accuracy: 0.6840\n",
      "Epoch 20/150\n",
      "10000/10000 [==============================] - 6s 631us/step - loss: 0.5727 - accuracy: 0.7026 - val_loss: 0.5585 - val_accuracy: 0.7080\n",
      "Epoch 21/150\n",
      "10000/10000 [==============================] - 6s 633us/step - loss: 0.5644 - accuracy: 0.7164 - val_loss: 0.5584 - val_accuracy: 0.7110\n",
      "Epoch 22/150\n",
      "10000/10000 [==============================] - 6s 624us/step - loss: 0.5512 - accuracy: 0.7235 - val_loss: 0.5579 - val_accuracy: 0.6940\n",
      "Epoch 23/150\n",
      "10000/10000 [==============================] - 6s 627us/step - loss: 0.5368 - accuracy: 0.7341 - val_loss: 0.5214 - val_accuracy: 0.7420\n",
      "Epoch 24/150\n",
      "10000/10000 [==============================] - 6s 625us/step - loss: 0.5229 - accuracy: 0.7397 - val_loss: 0.4985 - val_accuracy: 0.7600\n",
      "Epoch 25/150\n",
      "10000/10000 [==============================] - 6s 623us/step - loss: 0.5035 - accuracy: 0.7622 - val_loss: 0.4906 - val_accuracy: 0.7660\n",
      "Epoch 26/150\n",
      "10000/10000 [==============================] - 7s 656us/step - loss: 0.4842 - accuracy: 0.7721 - val_loss: 0.4693 - val_accuracy: 0.7820\n",
      "Epoch 27/150\n",
      "10000/10000 [==============================] - 6s 632us/step - loss: 0.4620 - accuracy: 0.7885 - val_loss: 0.4620 - val_accuracy: 0.7900\n",
      "Epoch 28/150\n",
      "10000/10000 [==============================] - 6s 624us/step - loss: 0.4395 - accuracy: 0.8038 - val_loss: 0.4251 - val_accuracy: 0.8190\n",
      "Epoch 29/150\n",
      "10000/10000 [==============================] - 6s 623us/step - loss: 0.4279 - accuracy: 0.8168 - val_loss: 0.4340 - val_accuracy: 0.8080\n",
      "Epoch 30/150\n",
      "10000/10000 [==============================] - 6s 637us/step - loss: 0.4128 - accuracy: 0.8249 - val_loss: 0.4076 - val_accuracy: 0.8270\n",
      "Epoch 31/150\n",
      "10000/10000 [==============================] - 6s 623us/step - loss: 0.3975 - accuracy: 0.8308 - val_loss: 0.4128 - val_accuracy: 0.8260\n",
      "Epoch 32/150\n",
      "10000/10000 [==============================] - 6s 623us/step - loss: 0.3823 - accuracy: 0.8359 - val_loss: 0.3985 - val_accuracy: 0.8330\n",
      "Epoch 33/150\n",
      "10000/10000 [==============================] - 6s 625us/step - loss: 0.3816 - accuracy: 0.8357 - val_loss: 0.3862 - val_accuracy: 0.8290\n",
      "Epoch 34/150\n",
      "10000/10000 [==============================] - 6s 625us/step - loss: 0.3784 - accuracy: 0.8418 - val_loss: 0.3931 - val_accuracy: 0.8260\n",
      "Epoch 35/150\n",
      "10000/10000 [==============================] - 6s 627us/step - loss: 0.3700 - accuracy: 0.8419 - val_loss: 0.3891 - val_accuracy: 0.8300\n",
      "Epoch 36/150\n",
      "10000/10000 [==============================] - 6s 623us/step - loss: 0.3622 - accuracy: 0.8448 - val_loss: 0.3980 - val_accuracy: 0.8340\n",
      "Epoch 37/150\n",
      "10000/10000 [==============================] - 6s 633us/step - loss: 0.3528 - accuracy: 0.8496 - val_loss: 0.3850 - val_accuracy: 0.8380\n",
      "Epoch 38/150\n",
      "10000/10000 [==============================] - 6s 632us/step - loss: 0.3532 - accuracy: 0.8499 - val_loss: 0.3850 - val_accuracy: 0.8330\n",
      "Epoch 39/150\n",
      "10000/10000 [==============================] - 6s 625us/step - loss: 0.3430 - accuracy: 0.8566 - val_loss: 0.3702 - val_accuracy: 0.8330\n",
      "Epoch 40/150\n",
      "10000/10000 [==============================] - 6s 623us/step - loss: 0.3442 - accuracy: 0.8533 - val_loss: 0.3839 - val_accuracy: 0.8350\n",
      "Epoch 41/150\n",
      "10000/10000 [==============================] - 6s 633us/step - loss: 0.3338 - accuracy: 0.8574 - val_loss: 0.3684 - val_accuracy: 0.8370\n",
      "Epoch 42/150\n",
      "10000/10000 [==============================] - 6s 627us/step - loss: 0.3394 - accuracy: 0.8571 - val_loss: 0.3720 - val_accuracy: 0.8320\n",
      "Epoch 43/150\n",
      "10000/10000 [==============================] - 6s 622us/step - loss: 0.3376 - accuracy: 0.8539 - val_loss: 0.3750 - val_accuracy: 0.8370\n",
      "Epoch 44/150\n",
      "10000/10000 [==============================] - 6s 645us/step - loss: 0.3295 - accuracy: 0.8582 - val_loss: 0.3665 - val_accuracy: 0.8310\n",
      "Epoch 45/150\n",
      "10000/10000 [==============================] - 6s 625us/step - loss: 0.3304 - accuracy: 0.8608 - val_loss: 0.3790 - val_accuracy: 0.8400\n",
      "Epoch 46/150\n",
      "10000/10000 [==============================] - 6s 631us/step - loss: 0.3304 - accuracy: 0.8604 - val_loss: 0.3759 - val_accuracy: 0.8340\n",
      "Epoch 47/150\n",
      "10000/10000 [==============================] - 7s 655us/step - loss: 0.3211 - accuracy: 0.8599 - val_loss: 0.3689 - val_accuracy: 0.8360\n",
      "Epoch 48/150\n",
      "10000/10000 [==============================] - 6s 647us/step - loss: 0.3265 - accuracy: 0.8567 - val_loss: 0.3801 - val_accuracy: 0.8310\n",
      "Epoch 49/150\n",
      "10000/10000 [==============================] - 8s 761us/step - loss: 0.3212 - accuracy: 0.8620 - val_loss: 0.3648 - val_accuracy: 0.8310\n",
      "Epoch 50/150\n",
      "10000/10000 [==============================] - 7s 698us/step - loss: 0.3164 - accuracy: 0.8639 - val_loss: 0.3702 - val_accuracy: 0.8330\n",
      "Epoch 51/150\n"
     ]
    },
    {
     "name": "stdout",
     "output_type": "stream",
     "text": [
      "10000/10000 [==============================] - ETA: 0s - loss: 0.3132 - accuracy: 0.86 - 6s 649us/step - loss: 0.3132 - accuracy: 0.8670 - val_loss: 0.3948 - val_accuracy: 0.8260\n",
      "Epoch 52/150\n",
      "10000/10000 [==============================] - 6s 643us/step - loss: 0.3144 - accuracy: 0.8658 - val_loss: 0.3639 - val_accuracy: 0.8440\n",
      "Epoch 53/150\n",
      "10000/10000 [==============================] - 7s 659us/step - loss: 0.3147 - accuracy: 0.8643 - val_loss: 0.3700 - val_accuracy: 0.8410\n",
      "Epoch 54/150\n",
      "10000/10000 [==============================] - 6s 634us/step - loss: 0.3125 - accuracy: 0.8644 - val_loss: 0.3731 - val_accuracy: 0.8430\n",
      "Epoch 55/150\n",
      "10000/10000 [==============================] - 6s 633us/step - loss: 0.3123 - accuracy: 0.8657 - val_loss: 0.3690 - val_accuracy: 0.8400\n",
      "Epoch 56/150\n",
      "10000/10000 [==============================] - 7s 651us/step - loss: 0.3080 - accuracy: 0.8679 - val_loss: 0.3841 - val_accuracy: 0.8350\n",
      "Epoch 57/150\n",
      "10000/10000 [==============================] - 6s 637us/step - loss: 0.3089 - accuracy: 0.8647 - val_loss: 0.3715 - val_accuracy: 0.8350\n",
      "Epoch 58/150\n",
      "10000/10000 [==============================] - 6s 621us/step - loss: 0.3015 - accuracy: 0.8680 - val_loss: 0.3715 - val_accuracy: 0.8350\n",
      "Epoch 59/150\n",
      "10000/10000 [==============================] - 6s 622us/step - loss: 0.3063 - accuracy: 0.8680 - val_loss: 0.3836 - val_accuracy: 0.8320\n",
      "Epoch 60/150\n",
      "10000/10000 [==============================] - 6s 621us/step - loss: 0.3048 - accuracy: 0.8721 - val_loss: 0.3658 - val_accuracy: 0.8310\n",
      "Epoch 61/150\n",
      "10000/10000 [==============================] - 6s 625us/step - loss: 0.2982 - accuracy: 0.8724 - val_loss: 0.3678 - val_accuracy: 0.8280\n",
      "Epoch 62/150\n",
      "10000/10000 [==============================] - 6s 631us/step - loss: 0.2960 - accuracy: 0.8737 - val_loss: 0.3850 - val_accuracy: 0.8320\n",
      "Epoch 63/150\n",
      "10000/10000 [==============================] - 6s 627us/step - loss: 0.2991 - accuracy: 0.8736 - val_loss: 0.3828 - val_accuracy: 0.8320\n",
      "Epoch 64/150\n",
      "10000/10000 [==============================] - 6s 620us/step - loss: 0.2984 - accuracy: 0.8754 - val_loss: 0.3682 - val_accuracy: 0.8250\n",
      "Epoch 65/150\n",
      "10000/10000 [==============================] - 6s 622us/step - loss: 0.2920 - accuracy: 0.8777 - val_loss: 0.3866 - val_accuracy: 0.8350\n",
      "Epoch 66/150\n",
      "10000/10000 [==============================] - 6s 620us/step - loss: 0.2902 - accuracy: 0.8744 - val_loss: 0.3827 - val_accuracy: 0.8310\n",
      "Epoch 67/150\n",
      "10000/10000 [==============================] - 6s 620us/step - loss: 0.2913 - accuracy: 0.8759 - val_loss: 0.3901 - val_accuracy: 0.8360\n",
      "Epoch 68/150\n",
      "10000/10000 [==============================] - 6s 622us/step - loss: 0.2968 - accuracy: 0.8715 - val_loss: 0.3843 - val_accuracy: 0.8350\n",
      "Epoch 69/150\n",
      "10000/10000 [==============================] - 6s 620us/step - loss: 0.2929 - accuracy: 0.8763 - val_loss: 0.3801 - val_accuracy: 0.8280\n",
      "Epoch 70/150\n",
      "10000/10000 [==============================] - 6s 622us/step - loss: 0.2858 - accuracy: 0.8766 - val_loss: 0.3890 - val_accuracy: 0.8310\n",
      "Epoch 71/150\n",
      "10000/10000 [==============================] - 7s 663us/step - loss: 0.2884 - accuracy: 0.8776 - val_loss: 0.3698 - val_accuracy: 0.8390\n",
      "Epoch 72/150\n",
      "10000/10000 [==============================] - 6s 645us/step - loss: 0.2870 - accuracy: 0.8788 - val_loss: 0.4006 - val_accuracy: 0.8320\n",
      "Epoch 73/150\n",
      "10000/10000 [==============================] - 6s 641us/step - loss: 0.2842 - accuracy: 0.8791 - val_loss: 0.3797 - val_accuracy: 0.8310\n",
      "Epoch 74/150\n",
      "10000/10000 [==============================] - 7s 686us/step - loss: 0.2854 - accuracy: 0.8804 - val_loss: 0.3837 - val_accuracy: 0.8370\n",
      "Epoch 75/150\n",
      "10000/10000 [==============================] - 6s 635us/step - loss: 0.2856 - accuracy: 0.8786 - val_loss: 0.3892 - val_accuracy: 0.8330\n",
      "Epoch 76/150\n",
      "10000/10000 [==============================] - 7s 652us/step - loss: 0.2803 - accuracy: 0.8781 - val_loss: 0.3874 - val_accuracy: 0.8330\n",
      "Epoch 77/150\n",
      "10000/10000 [==============================] - 7s 652us/step - loss: 0.2802 - accuracy: 0.8800 - val_loss: 0.3839 - val_accuracy: 0.8320\n",
      "Epoch 78/150\n",
      "10000/10000 [==============================] - 6s 645us/step - loss: 0.2789 - accuracy: 0.8826 - val_loss: 0.3945 - val_accuracy: 0.8310\n",
      "Epoch 79/150\n",
      "10000/10000 [==============================] - 6s 640us/step - loss: 0.2820 - accuracy: 0.8810 - val_loss: 0.3823 - val_accuracy: 0.8320\n",
      "Epoch 80/150\n",
      "10000/10000 [==============================] - 7s 666us/step - loss: 0.2739 - accuracy: 0.8821 - val_loss: 0.3931 - val_accuracy: 0.8330\n",
      "Epoch 81/150\n",
      "10000/10000 [==============================] - 7s 659us/step - loss: 0.2722 - accuracy: 0.8799 - val_loss: 0.3978 - val_accuracy: 0.8330\n",
      "Epoch 82/150\n",
      "10000/10000 [==============================] - 7s 650us/step - loss: 0.2734 - accuracy: 0.8864 - val_loss: 0.3882 - val_accuracy: 0.8360\n",
      "Epoch 83/150\n",
      "10000/10000 [==============================] - 7s 660us/step - loss: 0.2711 - accuracy: 0.8820 - val_loss: 0.4022 - val_accuracy: 0.8320\n",
      "Epoch 84/150\n",
      "10000/10000 [==============================] - 6s 636us/step - loss: 0.2724 - accuracy: 0.8794 - val_loss: 0.3897 - val_accuracy: 0.8380\n",
      "Epoch 85/150\n",
      "10000/10000 [==============================] - 6s 642us/step - loss: 0.2725 - accuracy: 0.8839 - val_loss: 0.3976 - val_accuracy: 0.8350\n",
      "Epoch 86/150\n",
      "10000/10000 [==============================] - 6s 648us/step - loss: 0.2733 - accuracy: 0.8823 - val_loss: 0.4072 - val_accuracy: 0.8370\n",
      "Epoch 87/150\n",
      "10000/10000 [==============================] - 7s 684us/step - loss: 0.2668 - accuracy: 0.8866 - val_loss: 0.4008 - val_accuracy: 0.8380\n",
      "Epoch 88/150\n",
      "10000/10000 [==============================] - 6s 644us/step - loss: 0.2666 - accuracy: 0.8842 - val_loss: 0.4017 - val_accuracy: 0.8350\n",
      "Epoch 89/150\n",
      "10000/10000 [==============================] - 6s 631us/step - loss: 0.2715 - accuracy: 0.8816 - val_loss: 0.4217 - val_accuracy: 0.8360\n",
      "Epoch 90/150\n",
      "10000/10000 [==============================] - 6s 625us/step - loss: 0.2668 - accuracy: 0.8858 - val_loss: 0.4259 - val_accuracy: 0.8390\n",
      "Epoch 91/150\n",
      "10000/10000 [==============================] - 6s 625us/step - loss: 0.2673 - accuracy: 0.8903 - val_loss: 0.4115 - val_accuracy: 0.8320\n",
      "Epoch 92/150\n",
      "10000/10000 [==============================] - 6s 626us/step - loss: 0.2617 - accuracy: 0.8889 - val_loss: 0.4415 - val_accuracy: 0.8340\n",
      "Epoch 93/150\n",
      "10000/10000 [==============================] - 6s 625us/step - loss: 0.2598 - accuracy: 0.8893 - val_loss: 0.4202 - val_accuracy: 0.8340\n",
      "Epoch 94/150\n",
      "10000/10000 [==============================] - 6s 632us/step - loss: 0.2618 - accuracy: 0.8895 - val_loss: 0.4058 - val_accuracy: 0.8320\n",
      "Epoch 95/150\n",
      "10000/10000 [==============================] - 6s 627us/step - loss: 0.2638 - accuracy: 0.8906 - val_loss: 0.4160 - val_accuracy: 0.8330\n",
      "Epoch 96/150\n",
      "10000/10000 [==============================] - 6s 642us/step - loss: 0.2588 - accuracy: 0.8897 - val_loss: 0.4437 - val_accuracy: 0.8340\n",
      "Epoch 97/150\n",
      "10000/10000 [==============================] - 6s 636us/step - loss: 0.2558 - accuracy: 0.8938 - val_loss: 0.4602 - val_accuracy: 0.8300\n",
      "Epoch 98/150\n",
      "10000/10000 [==============================] - 6s 643us/step - loss: 0.2604 - accuracy: 0.8886 - val_loss: 0.4163 - val_accuracy: 0.8360\n",
      "Epoch 99/150\n",
      "10000/10000 [==============================] - 6s 625us/step - loss: 0.2511 - accuracy: 0.8959 - val_loss: 0.4132 - val_accuracy: 0.8370\n",
      "Epoch 100/150\n",
      "10000/10000 [==============================] - 7s 662us/step - loss: 0.2572 - accuracy: 0.8903 - val_loss: 0.4042 - val_accuracy: 0.8400\n",
      "Epoch 101/150\n",
      "10000/10000 [==============================] - 6s 632us/step - loss: 0.2562 - accuracy: 0.8904 - val_loss: 0.4574 - val_accuracy: 0.8380\n",
      "Epoch 102/150\n",
      "10000/10000 [==============================] - 6s 635us/step - loss: 0.2523 - accuracy: 0.8913 - val_loss: 0.4216 - val_accuracy: 0.8310\n",
      "Epoch 103/150\n",
      "10000/10000 [==============================] - 6s 638us/step - loss: 0.2544 - accuracy: 0.8921 - val_loss: 0.4532 - val_accuracy: 0.8300\n",
      "Epoch 104/150\n",
      "10000/10000 [==============================] - 6s 629us/step - loss: 0.2529 - accuracy: 0.8939 - val_loss: 0.4404 - val_accuracy: 0.8310\n",
      "Epoch 105/150\n"
     ]
    },
    {
     "name": "stdout",
     "output_type": "stream",
     "text": [
      "10000/10000 [==============================] - 7s 652us/step - loss: 0.2479 - accuracy: 0.8943 - val_loss: 0.4400 - val_accuracy: 0.8440\n",
      "Epoch 106/150\n",
      "10000/10000 [==============================] - 6s 620us/step - loss: 0.2510 - accuracy: 0.8914 - val_loss: 0.4198 - val_accuracy: 0.8400\n",
      "Epoch 107/150\n",
      "10000/10000 [==============================] - 6s 629us/step - loss: 0.2443 - accuracy: 0.8964 - val_loss: 0.4505 - val_accuracy: 0.8310\n",
      "Epoch 108/150\n",
      "10000/10000 [==============================] - 7s 673us/step - loss: 0.2523 - accuracy: 0.8939 - val_loss: 0.4792 - val_accuracy: 0.8300\n",
      "Epoch 109/150\n",
      "10000/10000 [==============================] - 6s 640us/step - loss: 0.2433 - accuracy: 0.8970 - val_loss: 0.4386 - val_accuracy: 0.8390\n",
      "Epoch 110/150\n",
      "10000/10000 [==============================] - 7s 654us/step - loss: 0.2399 - accuracy: 0.8978 - val_loss: 0.4624 - val_accuracy: 0.8400\n",
      "Epoch 111/150\n",
      "10000/10000 [==============================] - 6s 643us/step - loss: 0.2383 - accuracy: 0.8972 - val_loss: 0.4347 - val_accuracy: 0.8390\n",
      "Epoch 112/150\n",
      "10000/10000 [==============================] - 6s 621us/step - loss: 0.2442 - accuracy: 0.8956 - val_loss: 0.4254 - val_accuracy: 0.8320\n",
      "Epoch 113/150\n",
      "10000/10000 [==============================] - 6s 631us/step - loss: 0.2418 - accuracy: 0.8973 - val_loss: 0.4171 - val_accuracy: 0.8370\n",
      "Epoch 114/150\n",
      "10000/10000 [==============================] - 7s 672us/step - loss: 0.2449 - accuracy: 0.9010 - val_loss: 0.4792 - val_accuracy: 0.8370\n",
      "Epoch 115/150\n",
      "10000/10000 [==============================] - 7s 665us/step - loss: 0.2372 - accuracy: 0.8999 - val_loss: 0.4479 - val_accuracy: 0.8400\n",
      "Epoch 116/150\n",
      "10000/10000 [==============================] - 6s 642us/step - loss: 0.2338 - accuracy: 0.8988 - val_loss: 0.4640 - val_accuracy: 0.8380\n",
      "Epoch 117/150\n",
      "10000/10000 [==============================] - 6s 645us/step - loss: 0.2471 - accuracy: 0.8949 - val_loss: 0.4917 - val_accuracy: 0.8410\n",
      "Epoch 118/150\n",
      "10000/10000 [==============================] - 7s 663us/step - loss: 0.2334 - accuracy: 0.9005 - val_loss: 0.4539 - val_accuracy: 0.8390\n",
      "Epoch 119/150\n",
      "10000/10000 [==============================] - 6s 632us/step - loss: 0.2427 - accuracy: 0.8973 - val_loss: 0.5358 - val_accuracy: 0.8190\n",
      "Epoch 120/150\n",
      "10000/10000 [==============================] - 6s 634us/step - loss: 0.2358 - accuracy: 0.8992 - val_loss: 0.4665 - val_accuracy: 0.8400\n",
      "Epoch 121/150\n",
      "10000/10000 [==============================] - 6s 638us/step - loss: 0.2370 - accuracy: 0.9006 - val_loss: 0.4736 - val_accuracy: 0.8380\n",
      "Epoch 122/150\n",
      "10000/10000 [==============================] - 6s 635us/step - loss: 0.2368 - accuracy: 0.8985 - val_loss: 0.4521 - val_accuracy: 0.8400\n",
      "Epoch 123/150\n",
      "10000/10000 [==============================] - 6s 629us/step - loss: 0.2334 - accuracy: 0.9009 - val_loss: 0.4572 - val_accuracy: 0.8380\n",
      "Epoch 124/150\n",
      "10000/10000 [==============================] - 7s 659us/step - loss: 0.2389 - accuracy: 0.9007 - val_loss: 0.4624 - val_accuracy: 0.8380\n",
      "Epoch 125/150\n",
      "10000/10000 [==============================] - 7s 667us/step - loss: 0.2398 - accuracy: 0.9014 - val_loss: 0.4216 - val_accuracy: 0.8320\n",
      "Epoch 126/150\n",
      "10000/10000 [==============================] - ETA: 0s - loss: 0.2325 - accuracy: 0.90 - 7s 668us/step - loss: 0.2327 - accuracy: 0.9058 - val_loss: 0.4725 - val_accuracy: 0.8410\n",
      "Epoch 127/150\n",
      "10000/10000 [==============================] - 7s 654us/step - loss: 0.2294 - accuracy: 0.9043 - val_loss: 0.4764 - val_accuracy: 0.8390\n",
      "Epoch 128/150\n",
      "10000/10000 [==============================] - 7s 717us/step - loss: 0.2328 - accuracy: 0.9043 - val_loss: 0.4436 - val_accuracy: 0.8300\n",
      "Epoch 129/150\n",
      "10000/10000 [==============================] - 7s 671us/step - loss: 0.2310 - accuracy: 0.9006 - val_loss: 0.4549 - val_accuracy: 0.8380\n",
      "Epoch 130/150\n",
      "10000/10000 [==============================] - 7s 651us/step - loss: 0.2360 - accuracy: 0.9003 - val_loss: 0.4293 - val_accuracy: 0.8360\n",
      "Epoch 131/150\n",
      "10000/10000 [==============================] - 7s 712us/step - loss: 0.2290 - accuracy: 0.9050 - val_loss: 0.4547 - val_accuracy: 0.8420\n",
      "Epoch 132/150\n",
      "10000/10000 [==============================] - 7s 670us/step - loss: 0.2298 - accuracy: 0.9040 - val_loss: 0.4540 - val_accuracy: 0.8400\n",
      "Epoch 133/150\n",
      "10000/10000 [==============================] - 7s 707us/step - loss: 0.2223 - accuracy: 0.9062 - val_loss: 0.4985 - val_accuracy: 0.8380\n",
      "Epoch 134/150\n",
      "10000/10000 [==============================] - 7s 736us/step - loss: 0.2221 - accuracy: 0.9036 - val_loss: 0.4969 - val_accuracy: 0.8440\n",
      "Epoch 135/150\n",
      "10000/10000 [==============================] - 9s 874us/step - loss: 0.2258 - accuracy: 0.9057 - val_loss: 0.4805 - val_accuracy: 0.8350\n",
      "Epoch 136/150\n",
      "10000/10000 [==============================] - 8s 794us/step - loss: 0.2294 - accuracy: 0.9048 - val_loss: 0.4500 - val_accuracy: 0.8400\n",
      "Epoch 137/150\n",
      "10000/10000 [==============================] - 8s 826us/step - loss: 0.2272 - accuracy: 0.9077 - val_loss: 0.4999 - val_accuracy: 0.8310\n",
      "Epoch 138/150\n",
      "10000/10000 [==============================] - 8s 793us/step - loss: 0.2175 - accuracy: 0.9067 - val_loss: 0.4795 - val_accuracy: 0.8370\n",
      "Epoch 139/150\n",
      "10000/10000 [==============================] - 8s 788us/step - loss: 0.2192 - accuracy: 0.9072 - val_loss: 0.4690 - val_accuracy: 0.8340\n",
      "Epoch 140/150\n",
      "10000/10000 [==============================] - 8s 800us/step - loss: 0.2199 - accuracy: 0.9094 - val_loss: 0.5011 - val_accuracy: 0.8330\n",
      "Epoch 141/150\n",
      "10000/10000 [==============================] - 8s 785us/step - loss: 0.2170 - accuracy: 0.9095 - val_loss: 0.5026 - val_accuracy: 0.8360\n",
      "Epoch 142/150\n",
      "10000/10000 [==============================] - 7s 696us/step - loss: 0.2221 - accuracy: 0.9099 - val_loss: 0.4857 - val_accuracy: 0.8400\n",
      "Epoch 143/150\n",
      "10000/10000 [==============================] - 8s 760us/step - loss: 0.2178 - accuracy: 0.9111 - val_loss: 0.5600 - val_accuracy: 0.8330\n",
      "Epoch 144/150\n",
      "10000/10000 [==============================] - 8s 762us/step - loss: 0.2177 - accuracy: 0.9112 - val_loss: 0.5033 - val_accuracy: 0.8300\n",
      "Epoch 145/150\n",
      "10000/10000 [==============================] - 8s 850us/step - loss: 0.2224 - accuracy: 0.9076 - val_loss: 0.5207 - val_accuracy: 0.8290\n",
      "Epoch 146/150\n",
      "10000/10000 [==============================] - 10s 960us/step - loss: 0.2144 - accuracy: 0.9129 - val_loss: 0.5371 - val_accuracy: 0.8410\n",
      "Epoch 147/150\n",
      "10000/10000 [==============================] - 8s 843us/step - loss: 0.2119 - accuracy: 0.9136 - val_loss: 0.4811 - val_accuracy: 0.8380\n",
      "Epoch 148/150\n",
      "10000/10000 [==============================] - 7s 664us/step - loss: 0.2106 - accuracy: 0.9144 - val_loss: 0.5378 - val_accuracy: 0.8390\n",
      "Epoch 149/150\n",
      "10000/10000 [==============================] - 7s 653us/step - loss: 0.2137 - accuracy: 0.9126 - val_loss: 0.4983 - val_accuracy: 0.8310\n",
      "Epoch 150/150\n",
      "10000/10000 [==============================] - 7s 699us/step - loss: 0.2054 - accuracy: 0.9159 - val_loss: 0.4753 - val_accuracy: 0.8290\n"
     ]
    }
   ],
   "source": [
    "# train\n",
    "history = model.fit([inputs_train, queries_train], answers_train,batch_size=32,epochs=150,validation_data=([inputs_test, queries_test], answers_test))"
   ]
  },
  {
   "cell_type": "code",
   "execution_count": 37,
   "id": "3931c22d",
   "metadata": {},
   "outputs": [],
   "source": [
    "model.save('chat_bot.h5')"
   ]
  },
  {
   "cell_type": "code",
   "execution_count": 38,
   "id": "ae38bcf9",
   "metadata": {},
   "outputs": [],
   "source": [
    "predictions = model.predict([inputs_test,queries_test])"
   ]
  },
  {
   "cell_type": "code",
   "execution_count": 39,
   "id": "87ee056d",
   "metadata": {},
   "outputs": [
    {
     "data": {
      "text/plain": [
       "array([2.7715994e-15, 3.1150994e-15, 3.8306002e-15, 2.9551955e-15,\n",
       "       6.5966015e-04, 3.3855257e-15, 4.3463382e-15, 3.1996706e-15,\n",
       "       3.7792916e-15, 3.5037365e-15, 3.5202151e-15, 4.0005536e-15,\n",
       "       3.5409289e-15, 4.0778703e-15, 3.5591842e-15, 3.7787580e-15,\n",
       "       9.9934036e-01, 3.1427309e-15, 3.6214305e-15, 4.0859052e-15,\n",
       "       3.4419504e-15, 3.8183305e-15, 3.5551404e-15, 2.9939339e-15,\n",
       "       3.5741504e-15, 2.9770900e-15, 4.0364855e-15, 3.1923189e-15,\n",
       "       3.4107122e-15, 3.5023336e-15, 4.3814295e-15, 3.3925328e-15,\n",
       "       3.1050032e-15, 2.9994781e-15, 2.7211145e-15, 3.8822646e-15,\n",
       "       2.9281741e-15, 3.2058772e-15], dtype=float32)"
      ]
     },
     "execution_count": 39,
     "metadata": {},
     "output_type": "execute_result"
    }
   ],
   "source": [
    "predictions[0]"
   ]
  },
  {
   "cell_type": "code",
   "execution_count": 40,
   "id": "df6e28ac",
   "metadata": {},
   "outputs": [
    {
     "data": {
      "text/plain": [
       "(['Mary',\n",
       "  'got',\n",
       "  'the',\n",
       "  'milk',\n",
       "  'there',\n",
       "  '.',\n",
       "  'John',\n",
       "  'moved',\n",
       "  'to',\n",
       "  'the',\n",
       "  'bedroom',\n",
       "  '.'],\n",
       " ['Is', 'John', 'in', 'the', 'kitchen', '?'],\n",
       " 'no')"
      ]
     },
     "execution_count": 40,
     "metadata": {},
     "output_type": "execute_result"
    }
   ],
   "source": [
    "test_data[0]"
   ]
  },
  {
   "cell_type": "code",
   "execution_count": 41,
   "id": "7a243ab5",
   "metadata": {},
   "outputs": [
    {
     "data": {
      "text/plain": [
       "16"
      ]
     },
     "execution_count": 41,
     "metadata": {},
     "output_type": "execute_result"
    }
   ],
   "source": [
    "tokenizer.word_index['no']"
   ]
  },
  {
   "cell_type": "code",
   "execution_count": 42,
   "id": "0051f5eb",
   "metadata": {},
   "outputs": [
    {
     "data": {
      "text/plain": [
       "4"
      ]
     },
     "execution_count": 42,
     "metadata": {},
     "output_type": "execute_result"
    }
   ],
   "source": [
    "tokenizer.word_index['yes']"
   ]
  },
  {
   "cell_type": "code",
   "execution_count": 46,
   "id": "e35a8bc1",
   "metadata": {},
   "outputs": [
    {
     "name": "stdout",
     "output_type": "stream",
     "text": [
      "no\n"
     ]
    }
   ],
   "source": [
    "val_max = np.argmax(predictions[0])\n",
    "for key,val in tokenizer.word_index.items():\n",
    "    if val==val_max:\n",
    "        k = key\n",
    "print(k)"
   ]
  },
  {
   "cell_type": "code",
   "execution_count": 47,
   "id": "2e4f68cb",
   "metadata": {},
   "outputs": [],
   "source": [
    "pred = []\n",
    "for prediction in predictions:\n",
    "    val_max = np.argmax(prediction)\n",
    "    if val_max == 16:\n",
    "        pred.append(0)\n",
    "    else:\n",
    "        pred.append(1)"
   ]
  },
  {
   "cell_type": "code",
   "execution_count": 51,
   "id": "e25c0082",
   "metadata": {},
   "outputs": [],
   "source": [
    "real = []\n",
    "for data in test_data:\n",
    "    if data[2] == 'no':\n",
    "        real.append(0)\n",
    "    else:\n",
    "        real.append(1)"
   ]
  },
  {
   "cell_type": "code",
   "execution_count": 56,
   "id": "66b76e33",
   "metadata": {},
   "outputs": [],
   "source": [
    "from sklearn.metrics import classification_report, accuracy_score"
   ]
  },
  {
   "cell_type": "code",
   "execution_count": 57,
   "id": "3c891468",
   "metadata": {},
   "outputs": [],
   "source": [
    "from sklearn.metrics import confusion_matrix"
   ]
  },
  {
   "cell_type": "code",
   "execution_count": 58,
   "id": "b8db8110",
   "metadata": {},
   "outputs": [
    {
     "name": "stdout",
     "output_type": "stream",
     "text": [
      "              precision    recall  f1-score   support\n",
      "\n",
      "           0       0.91      0.73      0.81       503\n",
      "           1       0.77      0.93      0.84       497\n",
      "\n",
      "   micro avg       0.83      0.83      0.83      1000\n",
      "   macro avg       0.84      0.83      0.83      1000\n",
      "weighted avg       0.84      0.83      0.83      1000\n",
      "\n"
     ]
    }
   ],
   "source": [
    "print(classification_report(real,pred))"
   ]
  },
  {
   "cell_type": "code",
   "execution_count": 59,
   "id": "0c3fbc69",
   "metadata": {},
   "outputs": [
    {
     "name": "stdout",
     "output_type": "stream",
     "text": [
      "[[369 134]\n",
      " [ 37 460]]\n"
     ]
    }
   ],
   "source": [
    "print(confusion_matrix(real,pred))"
   ]
  },
  {
   "cell_type": "code",
   "execution_count": 60,
   "id": "92a1d0c4",
   "metadata": {},
   "outputs": [
    {
     "name": "stdout",
     "output_type": "stream",
     "text": [
      "0.829\n"
     ]
    }
   ],
   "source": [
    "print(accuracy_score(real,pred))"
   ]
  },
  {
   "cell_type": "code",
   "execution_count": 61,
   "id": "35029208",
   "metadata": {},
   "outputs": [],
   "source": [
    "from pickle import dump"
   ]
  },
  {
   "cell_type": "code",
   "execution_count": 62,
   "id": "fa471ec2",
   "metadata": {},
   "outputs": [],
   "source": [
    "dump(tokenizer,open('chat_bot','wb'))"
   ]
  },
  {
   "cell_type": "code",
   "execution_count": null,
   "id": "4a0488e0",
   "metadata": {},
   "outputs": [],
   "source": []
  }
 ],
 "metadata": {
  "kernelspec": {
   "display_name": "Python 3",
   "language": "python",
   "name": "python3"
  },
  "language_info": {
   "codemirror_mode": {
    "name": "ipython",
    "version": 3
   },
   "file_extension": ".py",
   "mimetype": "text/x-python",
   "name": "python",
   "nbconvert_exporter": "python",
   "pygments_lexer": "ipython3",
   "version": "3.7.10"
  }
 },
 "nbformat": 4,
 "nbformat_minor": 5
}
